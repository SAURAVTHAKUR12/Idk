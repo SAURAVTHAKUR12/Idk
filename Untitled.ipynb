{
 "cells": [
  {
   "cell_type": "code",
   "execution_count": 1,
   "metadata": {},
   "outputs": [
    {
     "name": "stdout",
     "output_type": "stream",
     "text": [
      "the sum is 11\n"
     ]
    }
   ],
   "source": [
    "class hola(torch.utils.data.Dataset):\n",
    "    def _init_(self,root_dir,transform=None)\n",
    "    \n",
    "    self.datafilename=os."
   ]
  },
  {
   "cell_type": "code",
   "execution_count": 36,
   "metadata": {},
   "outputs": [
    {
     "name": "stdout",
     "output_type": "stream",
     "text": [
      "['client', 'client.c', 'file1.txt', 'users.txt', 'server.c', 'server', 'file2.txt']\n"
     ]
    }
   ],
   "source": [
    "import os, sys\n",
    "items = os.listdir('/home/sauravt/Documents/14619')\n",
    "\n",
    "# This would print all the files and directories\n",
    "newlist = []\n",
    "for name in items:\n",
    "        item = os.listdir('/home/sauravt/Documents/14619/' + name)\n",
    "        for file in item:\n",
    "            newlist.append(file)\n",
    "new = newlist\n",
    "print (new)"
   ]
  },
  {
   "cell_type": "code",
   "execution_count": null,
   "metadata": {
    "collapsed": true
   },
   "outputs": [],
   "source": []
  }
 ],
 "metadata": {
  "kernelspec": {
   "display_name": "Python 2",
   "language": "python",
   "name": "python2"
  },
  "language_info": {
   "codemirror_mode": {
    "name": "ipython",
    "version": 3
   },
   "file_extension": ".py",
   "mimetype": "text/x-python",
   "name": "python",
   "nbconvert_exporter": "python",
   "pygments_lexer": "ipython3",
   "version": "3.6.1"
  }
 },
 "nbformat": 4,
 "nbformat_minor": 2
}
